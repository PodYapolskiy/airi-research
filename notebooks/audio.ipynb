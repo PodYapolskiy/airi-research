{
 "cells": [
  {
   "cell_type": "code",
   "execution_count": 67,
   "id": "6c334a9b",
   "metadata": {},
   "outputs": [
    {
     "data": {
      "text/plain": [
       "================================================================================\n",
       "Layer (type:depth-idx)                                  Param #\n",
       "================================================================================\n",
       "HubertModel                                             1,024\n",
       "├─HubertFeatureEncoder: 1-1                             --\n",
       "│    └─ModuleList: 2-1                                  --\n",
       "│    │    └─HubertLayerNormConvLayer: 3-1               6,656\n",
       "│    │    └─HubertLayerNormConvLayer: 3-2               787,968\n",
       "│    │    └─HubertLayerNormConvLayer: 3-3               787,968\n",
       "│    │    └─HubertLayerNormConvLayer: 3-4               787,968\n",
       "│    │    └─HubertLayerNormConvLayer: 3-5               787,968\n",
       "│    │    └─HubertLayerNormConvLayer: 3-6               525,824\n",
       "│    │    └─HubertLayerNormConvLayer: 3-7               525,824\n",
       "├─HubertFeatureProjection: 1-2                          --\n",
       "│    └─LayerNorm: 2-2                                   1,024\n",
       "│    └─Linear: 2-3                                      525,312\n",
       "│    └─Dropout: 2-4                                     --\n",
       "├─HubertEncoderStableLayerNorm: 1-3                     --\n",
       "│    └─HubertPositionalConvEmbedding: 2-5               --\n",
       "│    │    └─ParametrizedConv1d: 3-8                     8,389,760\n",
       "│    │    └─HubertSamePadLayer: 3-9                     --\n",
       "│    │    └─GELUActivation: 3-10                        --\n",
       "│    └─LayerNorm: 2-6                                   2,048\n",
       "│    └─Dropout: 2-7                                     --\n",
       "│    └─ModuleList: 2-8                                  --\n",
       "│    │    └─HubertEncoderLayerStableLayerNorm: 3-11     12,596,224\n",
       "│    │    └─HubertEncoderLayerStableLayerNorm: 3-12     12,596,224\n",
       "│    │    └─HubertEncoderLayerStableLayerNorm: 3-13     12,596,224\n",
       "│    │    └─HubertEncoderLayerStableLayerNorm: 3-14     12,596,224\n",
       "│    │    └─HubertEncoderLayerStableLayerNorm: 3-15     12,596,224\n",
       "│    │    └─HubertEncoderLayerStableLayerNorm: 3-16     12,596,224\n",
       "│    │    └─HubertEncoderLayerStableLayerNorm: 3-17     12,596,224\n",
       "│    │    └─HubertEncoderLayerStableLayerNorm: 3-18     12,596,224\n",
       "│    │    └─HubertEncoderLayerStableLayerNorm: 3-19     12,596,224\n",
       "│    │    └─HubertEncoderLayerStableLayerNorm: 3-20     12,596,224\n",
       "│    │    └─HubertEncoderLayerStableLayerNorm: 3-21     12,596,224\n",
       "│    │    └─HubertEncoderLayerStableLayerNorm: 3-22     12,596,224\n",
       "│    │    └─HubertEncoderLayerStableLayerNorm: 3-23     12,596,224\n",
       "│    │    └─HubertEncoderLayerStableLayerNorm: 3-24     12,596,224\n",
       "│    │    └─HubertEncoderLayerStableLayerNorm: 3-25     12,596,224\n",
       "│    │    └─HubertEncoderLayerStableLayerNorm: 3-26     12,596,224\n",
       "│    │    └─HubertEncoderLayerStableLayerNorm: 3-27     12,596,224\n",
       "│    │    └─HubertEncoderLayerStableLayerNorm: 3-28     12,596,224\n",
       "│    │    └─HubertEncoderLayerStableLayerNorm: 3-29     12,596,224\n",
       "│    │    └─HubertEncoderLayerStableLayerNorm: 3-30     12,596,224\n",
       "│    │    └─HubertEncoderLayerStableLayerNorm: 3-31     12,596,224\n",
       "│    │    └─HubertEncoderLayerStableLayerNorm: 3-32     12,596,224\n",
       "│    │    └─HubertEncoderLayerStableLayerNorm: 3-33     12,596,224\n",
       "│    │    └─HubertEncoderLayerStableLayerNorm: 3-34     12,596,224\n",
       "================================================================================\n",
       "Total params: 315,438,720\n",
       "Trainable params: 315,438,720\n",
       "Non-trainable params: 0\n",
       "================================================================================"
      ]
     },
     "execution_count": 67,
     "metadata": {},
     "output_type": "execute_result"
    }
   ],
   "source": [
    "import torch\n",
    "import torchinfo\n",
    "from transformers import HubertModel, AutoProcessor\n",
    "\n",
    "model_id = \"facebook/hubert-large-ls960-ft\"\n",
    "processor = AutoProcessor.from_pretrained(model_id)\n",
    "model = HubertModel.from_pretrained(\n",
    "    model_id,\n",
    "    use_safetensors=True,\n",
    "    # torch_dtype=torch.float16,\n",
    ").to(\"cpu\")\n",
    "model.eval()\n",
    "torchinfo.summary(model)"
   ]
  },
  {
   "cell_type": "code",
   "execution_count": null,
   "id": "3f848b3b",
   "metadata": {},
   "outputs": [
    {
     "data": {
      "text/plain": [
       "torch.Size([2, 2367288])"
      ]
     },
     "execution_count": 81,
     "metadata": {},
     "output_type": "execute_result"
    }
   ],
   "source": []
  },
  {
   "cell_type": "code",
   "execution_count": null,
   "id": "c25fb9bb",
   "metadata": {},
   "outputs": [
    {
     "ename": "AttributeError",
     "evalue": "module 'soundfile' has no attribute 'SoundFileRuntimeError'",
     "output_type": "error",
     "traceback": [
      "\u001b[31m---------------------------------------------------------------------------\u001b[39m",
      "\u001b[31mKeyError\u001b[39m                                  Traceback (most recent call last)",
      "\u001b[36mFile \u001b[39m\u001b[32m~/repos/airi-research/.venv/lib/python3.12/site-packages/soundfile.py:1377\u001b[39m, in \u001b[36mSoundFile._check_dtype\u001b[39m\u001b[34m(self, dtype)\u001b[39m\n\u001b[32m   1376\u001b[39m \u001b[38;5;28;01mtry\u001b[39;00m:\n\u001b[32m-> \u001b[39m\u001b[32m1377\u001b[39m     \u001b[38;5;28;01mreturn\u001b[39;00m \u001b[43m_ffi_types\u001b[49m\u001b[43m[\u001b[49m\u001b[43mdtype\u001b[49m\u001b[43m]\u001b[49m\n\u001b[32m   1378\u001b[39m \u001b[38;5;28;01mexcept\u001b[39;00m \u001b[38;5;167;01mKeyError\u001b[39;00m:\n",
      "\u001b[31mKeyError\u001b[39m: 'object'",
      "\nDuring handling of the above exception, another exception occurred:\n",
      "\u001b[31mValueError\u001b[39m                                Traceback (most recent call last)",
      "\u001b[36mFile \u001b[39m\u001b[32m~/repos/airi-research/.venv/lib/python3.12/site-packages/librosa/core/audio.py:176\u001b[39m, in \u001b[36mload\u001b[39m\u001b[34m(path, sr, mono, offset, duration, dtype, res_type)\u001b[39m\n\u001b[32m    175\u001b[39m \u001b[38;5;28;01mtry\u001b[39;00m:\n\u001b[32m--> \u001b[39m\u001b[32m176\u001b[39m     y, sr_native = \u001b[43m__soundfile_load\u001b[49m\u001b[43m(\u001b[49m\u001b[43mpath\u001b[49m\u001b[43m,\u001b[49m\u001b[43m \u001b[49m\u001b[43moffset\u001b[49m\u001b[43m,\u001b[49m\u001b[43m \u001b[49m\u001b[43mduration\u001b[49m\u001b[43m,\u001b[49m\u001b[43m \u001b[49m\u001b[43mdtype\u001b[49m\u001b[43m)\u001b[49m\n\u001b[32m    178\u001b[39m \u001b[38;5;28;01mexcept\u001b[39;00m sf.SoundFileRuntimeError \u001b[38;5;28;01mas\u001b[39;00m exc:\n\u001b[32m    179\u001b[39m     \u001b[38;5;66;03m# If soundfile failed, try audioread instead\u001b[39;00m\n",
      "\u001b[36mFile \u001b[39m\u001b[32m~/repos/airi-research/.venv/lib/python3.12/site-packages/librosa/core/audio.py:222\u001b[39m, in \u001b[36m__soundfile_load\u001b[39m\u001b[34m(path, offset, duration, dtype)\u001b[39m\n\u001b[32m    221\u001b[39m     \u001b[38;5;66;03m# Load the target number of frames, and transpose to match librosa form\u001b[39;00m\n\u001b[32m--> \u001b[39m\u001b[32m222\u001b[39m     y = \u001b[43msf_desc\u001b[49m\u001b[43m.\u001b[49m\u001b[43mread\u001b[49m\u001b[43m(\u001b[49m\u001b[43mframes\u001b[49m\u001b[43m=\u001b[49m\u001b[43mframe_duration\u001b[49m\u001b[43m,\u001b[49m\u001b[43m \u001b[49m\u001b[43mdtype\u001b[49m\u001b[43m=\u001b[49m\u001b[43mdtype\u001b[49m\u001b[43m,\u001b[49m\u001b[43m \u001b[49m\u001b[43malways_2d\u001b[49m\u001b[43m=\u001b[49m\u001b[38;5;28;43;01mFalse\u001b[39;49;00m\u001b[43m)\u001b[49m.T\n\u001b[32m    224\u001b[39m \u001b[38;5;28;01mreturn\u001b[39;00m y, sr_native\n",
      "\u001b[36mFile \u001b[39m\u001b[32m~/repos/airi-research/.venv/lib/python3.12/site-packages/soundfile.py:965\u001b[39m, in \u001b[36mSoundFile.read\u001b[39m\u001b[34m(self, frames, dtype, always_2d, fill_value, out)\u001b[39m\n\u001b[32m    964\u001b[39m         frames = \u001b[38;5;28mlen\u001b[39m(out)\n\u001b[32m--> \u001b[39m\u001b[32m965\u001b[39m frames = \u001b[38;5;28;43mself\u001b[39;49m\u001b[43m.\u001b[49m\u001b[43m_array_io\u001b[49m\u001b[43m(\u001b[49m\u001b[33;43m'\u001b[39;49m\u001b[33;43mread\u001b[39;49m\u001b[33;43m'\u001b[39;49m\u001b[43m,\u001b[49m\u001b[43m \u001b[49m\u001b[43mout\u001b[49m\u001b[43m,\u001b[49m\u001b[43m \u001b[49m\u001b[43mframes\u001b[49m\u001b[43m)\u001b[49m\n\u001b[32m    966\u001b[39m \u001b[38;5;28;01mif\u001b[39;00m \u001b[38;5;28mlen\u001b[39m(out) > frames:\n",
      "\u001b[36mFile \u001b[39m\u001b[32m~/repos/airi-research/.venv/lib/python3.12/site-packages/soundfile.py:1407\u001b[39m, in \u001b[36mSoundFile._array_io\u001b[39m\u001b[34m(self, action, array, frames)\u001b[39m\n\u001b[32m   1406\u001b[39m     \u001b[38;5;28;01mraise\u001b[39;00m \u001b[38;5;167;01mValueError\u001b[39;00m(\u001b[33m\"\u001b[39m\u001b[33mData must be C-contiguous\u001b[39m\u001b[33m\"\u001b[39m)\n\u001b[32m-> \u001b[39m\u001b[32m1407\u001b[39m ctype = \u001b[38;5;28;43mself\u001b[39;49m\u001b[43m.\u001b[49m\u001b[43m_check_dtype\u001b[49m\u001b[43m(\u001b[49m\u001b[43marray\u001b[49m\u001b[43m.\u001b[49m\u001b[43mdtype\u001b[49m\u001b[43m.\u001b[49m\u001b[43mname\u001b[49m\u001b[43m)\u001b[49m\n\u001b[32m   1408\u001b[39m \u001b[38;5;28;01massert\u001b[39;00m array.dtype.itemsize == _ffi.sizeof(ctype)\n",
      "\u001b[36mFile \u001b[39m\u001b[32m~/repos/airi-research/.venv/lib/python3.12/site-packages/soundfile.py:1379\u001b[39m, in \u001b[36mSoundFile._check_dtype\u001b[39m\u001b[34m(self, dtype)\u001b[39m\n\u001b[32m   1378\u001b[39m \u001b[38;5;28;01mexcept\u001b[39;00m \u001b[38;5;167;01mKeyError\u001b[39;00m:\n\u001b[32m-> \u001b[39m\u001b[32m1379\u001b[39m     \u001b[38;5;28;01mraise\u001b[39;00m \u001b[38;5;167;01mValueError\u001b[39;00m(\u001b[33m\"\u001b[39m\u001b[33mdtype must be one of \u001b[39m\u001b[38;5;132;01m{0!r}\u001b[39;00m\u001b[33m\"\u001b[39m.format(\n\u001b[32m   1380\u001b[39m         \u001b[38;5;28msorted\u001b[39m(_ffi_types.keys())))\n",
      "\u001b[31mValueError\u001b[39m: dtype must be one of ['float32', 'float64', 'int16', 'int32']",
      "\nDuring handling of the above exception, another exception occurred:\n",
      "\u001b[31mAttributeError\u001b[39m                            Traceback (most recent call last)",
      "\u001b[36mCell\u001b[39m\u001b[36m \u001b[39m\u001b[32mIn[145]\u001b[39m\u001b[32m, line 3\u001b[39m\n\u001b[32m      1\u001b[39m \u001b[38;5;28;01mimport\u001b[39;00m\u001b[38;5;250m \u001b[39m\u001b[34;01mlibrosa\u001b[39;00m\n\u001b[32m----> \u001b[39m\u001b[32m3\u001b[39m waveform, sr = \u001b[43mlibrosa\u001b[49m\u001b[43m.\u001b[49m\u001b[43mload\u001b[49m\u001b[43m(\u001b[49m\u001b[33;43m\"\u001b[39;49m\u001b[33;43mtemp.wav\u001b[39;49m\u001b[33;43m\"\u001b[39;49m\u001b[43m,\u001b[49m\u001b[43m \u001b[49m\u001b[43msr\u001b[49m\u001b[43m=\u001b[49m\u001b[32;43m16000\u001b[39;49m\u001b[43m,\u001b[49m\u001b[43m \u001b[49m\u001b[43mmono\u001b[49m\u001b[43m=\u001b[49m\u001b[38;5;28;43;01mFalse\u001b[39;49;00m\u001b[43m,\u001b[49m\u001b[43m \u001b[49m\u001b[43mdtype\u001b[49m\u001b[43m=\u001b[49m\u001b[43mtorch\u001b[49m\u001b[43m.\u001b[49m\u001b[43mTensor\u001b[49m\u001b[43m)\u001b[49m  \n\u001b[32m      4\u001b[39m waveform\n",
      "\u001b[36mFile \u001b[39m\u001b[32m~/repos/airi-research/.venv/lib/python3.12/site-packages/librosa/core/audio.py:178\u001b[39m, in \u001b[36mload\u001b[39m\u001b[34m(path, sr, mono, offset, duration, dtype, res_type)\u001b[39m\n\u001b[32m    175\u001b[39m \u001b[38;5;28;01mtry\u001b[39;00m:\n\u001b[32m    176\u001b[39m     y, sr_native = __soundfile_load(path, offset, duration, dtype)\n\u001b[32m--> \u001b[39m\u001b[32m178\u001b[39m \u001b[38;5;28;01mexcept\u001b[39;00m \u001b[43msf\u001b[49m\u001b[43m.\u001b[49m\u001b[43mSoundFileRuntimeError\u001b[49m \u001b[38;5;28;01mas\u001b[39;00m exc:\n\u001b[32m    179\u001b[39m     \u001b[38;5;66;03m# If soundfile failed, try audioread instead\u001b[39;00m\n\u001b[32m    180\u001b[39m     \u001b[38;5;28;01mif\u001b[39;00m \u001b[38;5;28misinstance\u001b[39m(path, (\u001b[38;5;28mstr\u001b[39m, pathlib.PurePath)):\n\u001b[32m    181\u001b[39m         warnings.warn(\n\u001b[32m    182\u001b[39m             \u001b[33m\"\u001b[39m\u001b[33mPySoundFile failed. Trying audioread instead.\u001b[39m\u001b[33m\"\u001b[39m, stacklevel=\u001b[32m2\u001b[39m\n\u001b[32m    183\u001b[39m         )\n",
      "\u001b[31mAttributeError\u001b[39m: module 'soundfile' has no attribute 'SoundFileRuntimeError'"
     ]
    }
   ],
   "source": [
    "import librosa\n",
    "\n",
    "waveform, sr = librosa.load(\"temp.wav\", sr=16000, mono=False)  # dtype=torch.Tensor\n",
    "waveform"
   ]
  },
  {
   "cell_type": "code",
   "execution_count": 124,
   "id": "f31db0be",
   "metadata": {},
   "outputs": [
    {
     "data": {
      "text/plain": [
       "(2, 858880)"
      ]
     },
     "execution_count": 124,
     "metadata": {},
     "output_type": "execute_result"
    }
   ],
   "source": [
    "waveform.shape"
   ]
  },
  {
   "cell_type": "code",
   "execution_count": 125,
   "id": "3b11796e",
   "metadata": {},
   "outputs": [
    {
     "data": {
      "text/plain": [
       "torch.Size([2, 858880])"
      ]
     },
     "execution_count": 125,
     "metadata": {},
     "output_type": "execute_result"
    }
   ],
   "source": [
    "t1 = torch.from_numpy(waveform)\n",
    "t1.size()"
   ]
  },
  {
   "cell_type": "code",
   "execution_count": 158,
   "id": "5fabb592",
   "metadata": {},
   "outputs": [
    {
     "data": {
      "text/plain": [
       "(torch.Size([2, 2367288]), 44100)"
      ]
     },
     "execution_count": 158,
     "metadata": {},
     "output_type": "execute_result"
    }
   ],
   "source": [
    "import torchaudio\n",
    "\n",
    "waveform, sr = torchaudio.load(\"temp.wav\")\n",
    "waveform.size(), sr"
   ]
  },
  {
   "cell_type": "code",
   "execution_count": 159,
   "id": "8c4a88d0",
   "metadata": {},
   "outputs": [
    {
     "data": {
      "text/plain": [
       "torch.Size([2, 858880])"
      ]
     },
     "execution_count": 159,
     "metadata": {},
     "output_type": "execute_result"
    }
   ],
   "source": [
    "sampling_rate = 16000\n",
    "waveform = torchaudio.functional.resample(\n",
    "    waveform, orig_freq=sr, new_freq=sampling_rate  # , resampling_method=\"sinc_interp_kaiser\"\n",
    ")\n",
    "waveform.size()"
   ]
  },
  {
   "cell_type": "code",
   "execution_count": 160,
   "id": "f98e605c",
   "metadata": {},
   "outputs": [],
   "source": [
    "def save_waveform(path, waveform, sr):\n",
    "    torchaudio.save(\n",
    "        path,\n",
    "        waveform.cpu(),\n",
    "        sample_rate=sr,\n",
    "        format=\"wav\",\n",
    "        encoding=\"PCM_S\",\n",
    "        bits_per_sample=16,\n",
    "    )\n",
    "\n",
    "\n",
    "save_waveform(\"temp_resembeled.wav\", waveform, 16000)"
   ]
  },
  {
   "cell_type": "code",
   "execution_count": 161,
   "id": "78f71b82",
   "metadata": {},
   "outputs": [
    {
     "data": {
      "text/plain": [
       "243159"
      ]
     },
     "execution_count": 161,
     "metadata": {},
     "output_type": "execute_result"
    }
   ],
   "source": [
    "def count_different_values(t1, t2):\n",
    "    return torch.sum(torch.abs(t1 - t2) > 1e-3).item()\n",
    "    # return torch.sum(torch.ne(t1, t2)).item()\n",
    "\n",
    "\n",
    "# t1[1][:10], waveform[1][:10]\n",
    "\n",
    "count_different_values(t1, waveform)"
   ]
  },
  {
   "cell_type": "code",
   "execution_count": 162,
   "id": "30798169",
   "metadata": {},
   "outputs": [
    {
     "data": {
      "text/plain": [
       "torch.Size([1, 2, 858880])"
      ]
     },
     "execution_count": 162,
     "metadata": {},
     "output_type": "execute_result"
    }
   ],
   "source": [
    "signal = processor(waveform, sampling_rate=16000, return_tensors=\"pt\").input_values\n",
    "signal.size()"
   ]
  },
  {
   "cell_type": "code",
   "execution_count": 163,
   "id": "4546cc71",
   "metadata": {},
   "outputs": [
    {
     "data": {
      "text/plain": [
       "torch.Size([2, 858880])"
      ]
     },
     "execution_count": 163,
     "metadata": {},
     "output_type": "execute_result"
    }
   ],
   "source": [
    "from einops import reduce, rearrange\n",
    "\n",
    "signal = rearrange(signal, \"1 channels timestemps -> channels timestemps\")\n",
    "signal.size()"
   ]
  },
  {
   "cell_type": "code",
   "execution_count": 164,
   "id": "d6f7e201",
   "metadata": {},
   "outputs": [],
   "source": [
    "save_waveform(\"temp_resempled_processed.wav\", signal, sampling_rate)"
   ]
  },
  {
   "cell_type": "code",
   "execution_count": 92,
   "id": "d89c7c70",
   "metadata": {},
   "outputs": [
    {
     "data": {
      "text/plain": [
       "False"
      ]
     },
     "execution_count": 92,
     "metadata": {},
     "output_type": "execute_result"
    }
   ],
   "source": [
    "torch.allclose(waveform, signal, atol=1e-5)"
   ]
  },
  {
   "cell_type": "code",
   "execution_count": 93,
   "id": "897c9ed8",
   "metadata": {},
   "outputs": [
    {
     "data": {
      "text/plain": [
       "(tensor([0.0005, 0.0010, 0.0009, 0.0008, 0.0008]),\n",
       " tensor([0.0185, 0.0347, 0.0321, 0.0301, 0.0289]))"
      ]
     },
     "execution_count": 93,
     "metadata": {},
     "output_type": "execute_result"
    }
   ],
   "source": [
    "waveform[0][:5], signal[0][:5]"
   ]
  },
  {
   "cell_type": "code",
   "execution_count": 88,
   "id": "8f0c0d7e",
   "metadata": {},
   "outputs": [],
   "source": [
    "model.eval()\n",
    "with torch.no_grad():\n",
    "    outputs = model(signal)"
   ]
  },
  {
   "cell_type": "code",
   "execution_count": 91,
   "id": "da4fce78",
   "metadata": {},
   "outputs": [
    {
     "data": {
      "text/plain": [
       "torch.Size([2, 2683, 1024])"
      ]
     },
     "execution_count": 91,
     "metadata": {},
     "output_type": "execute_result"
    }
   ],
   "source": [
    "outputs.last_hidden_state.size()"
   ]
  },
  {
   "cell_type": "code",
   "execution_count": 94,
   "id": "7b56ebcd",
   "metadata": {},
   "outputs": [
    {
     "data": {
      "text/plain": [
       "torch.Size([2, 1024])"
      ]
     },
     "execution_count": 94,
     "metadata": {},
     "output_type": "execute_result"
    }
   ],
   "source": [
    "import einops\n",
    "\n",
    "temp = einops.reduce(\n",
    "    outputs.last_hidden_state, \"channel timestemp dim -> channel dim\", \"mean\"\n",
    ")\n",
    "temp.size()"
   ]
  }
 ],
 "metadata": {
  "kernelspec": {
   "display_name": "airi-research",
   "language": "python",
   "name": "python3"
  },
  "language_info": {
   "codemirror_mode": {
    "name": "ipython",
    "version": 3
   },
   "file_extension": ".py",
   "mimetype": "text/x-python",
   "name": "python",
   "nbconvert_exporter": "python",
   "pygments_lexer": "ipython3",
   "version": "3.12.8"
  }
 },
 "nbformat": 4,
 "nbformat_minor": 5
}
