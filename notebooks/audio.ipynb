{
 "cells": [
  {
   "cell_type": "code",
   "execution_count": 11,
   "id": "97cbe40e",
   "metadata": {},
   "outputs": [
    {
     "data": {
      "text/plain": [
       "PosixPath('../data/preprocessed_train_data/audio/5a03d20a7ecfc50001be0a7a_q1_generic.pt')"
      ]
     },
     "execution_count": 11,
     "metadata": {},
     "output_type": "execute_result"
    }
   ],
   "source": [
    "from pathlib import Path\n",
    "\n",
    "data_dir = Path('../data/preprocessed_train_data')\n",
    "audio_dir = data_dir / \"audio\"\n",
    "\n",
    "audio_path = sorted(audio_dir.glob(\"*.pt\"))[0]\n",
    "audio_path"
   ]
  },
  {
   "cell_type": "code",
   "execution_count": 14,
   "id": "8eb9c5ce",
   "metadata": {},
   "outputs": [
    {
     "data": {
      "text/plain": [
       "(tensor([[ 0.1969, -0.0129, -0.0882,  ...,  0.1390,  0.2094, -0.1379],\n",
       "         [ 0.0950,  0.0111, -0.0779,  ...,  0.0576,  0.1827, -0.2337],\n",
       "         [ 0.0894,  0.0031, -0.0777,  ...,  0.0161,  0.2006, -0.1645],\n",
       "         ...,\n",
       "         [-0.1300, -0.0172,  0.1780,  ...,  0.1942,  0.2564, -0.2170],\n",
       "         [-0.0504, -0.0843,  0.2044,  ...,  0.3398,  0.2339, -0.1538],\n",
       "         [ 0.0152, -0.0241,  0.1738,  ...,  0.4174,  0.0609, -0.0242]]),\n",
       " torch.Size([20679, 768]))"
      ]
     },
     "execution_count": 14,
     "metadata": {},
     "output_type": "execute_result"
    }
   ],
   "source": [
    "import torch\n",
    "\n",
    "audio_tensor = torch.load(audio_path)\n",
    "audio_tensor, audio_tensor.size()\n"
   ]
  }
 ],
 "metadata": {
  "kernelspec": {
   "display_name": ".venv",
   "language": "python",
   "name": "python3"
  },
  "language_info": {
   "codemirror_mode": {
    "name": "ipython",
    "version": 3
   },
   "file_extension": ".py",
   "mimetype": "text/x-python",
   "name": "python",
   "nbconvert_exporter": "python",
   "pygments_lexer": "ipython3",
   "version": "3.12.8"
  }
 },
 "nbformat": 4,
 "nbformat_minor": 5
}
