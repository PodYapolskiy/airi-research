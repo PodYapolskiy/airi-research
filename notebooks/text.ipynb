{
 "cells": [
  {
   "cell_type": "code",
   "execution_count": 7,
   "id": "86fcf3b4",
   "metadata": {},
   "outputs": [],
   "source": [
    "import re\n",
    "\n",
    "\n",
    "def preprocess_text(text_path):\n",
    "    with open(text_path, \"r\") as f:\n",
    "        text = f.read()\n",
    "\n",
    "    # Define a regular expression for advanced sentence splitting\n",
    "    sentence_splitter = re.compile(r\"(?<=[.!?])\\s+\")\n",
    "\n",
    "    # Split text into sentences using the advanced sentence splitter\n",
    "    sentences = sentence_splitter.split(text)\n",
    "\n",
    "    # for sentence in sentences:\n",
    "    #     print(sentence)\n",
    "\n",
    "    # Remove any empty sentences and consecutive duplicates\n",
    "    prev_sentence = None\n",
    "    filtered_sentences = []\n",
    "    for sentence in sentences:\n",
    "        sentence = sentence.strip()\n",
    "        if sentence and sentence != prev_sentence:\n",
    "            filtered_sentences.append(sentence)\n",
    "            prev_sentence = sentence\n",
    "\n",
    "    for sentence in filtered_sentences:\n",
    "        print(sentence)"
   ]
  },
  {
   "cell_type": "code",
   "execution_count": 4,
   "id": "d75c8c00",
   "metadata": {},
   "outputs": [
    {
     "name": "stdout",
     "output_type": "stream",
     "text": [
      " My best friend would describe me as being a very caring, very giving person.\n",
      "I tend to be more of a listener than coming to people with my problems.\n",
      "So I lend a big ear to people.\n",
      "I'm very easy to talk to.\n",
      "So when you're telling me your problems, I absorb everything.\n",
      "I'm not going to put you off.\n",
      "And I typically make time for anybody who needs it.\n",
      "I'm very good at prioritizing.\n",
      "So I will fit you in when I can, obviously, where adults are busy.\n",
      "Another thing they would describe me as is I'm typically very outgoing, a very loving person, and sometimes to a fault where I give too much of myself to people.\n",
      "I can be maybe too nice, too understanding, too giving, but that's just how I am.\n",
      "I would say my best friend would also describe me as very reliable, very dependable.\n",
      "If I say I'm going to do something, I do it.\n",
      "I follow through with it without having to be pestered, be asked.\n",
      "They have to keep following up with me.\n",
      "Are you sure you're going to do it?\n",
      "If I say I'm going to do something, I end up doing it.\n",
      "I follow through with it without needing to be asked plenty of times.\n",
      "You may have to follow up once with me.\n",
      "I may have lost track of it.\n",
      "I didn't forget to do it.\n",
      "I put it a little on the back burner.\n",
      "And I would say another thing that typically I wear my heart on my sleeve, so to speak.\n",
      "I can be kind of an emotional person, and I take a lot of stuff to heart.\n",
      "Stuff can get to me.\n",
      "I can get kind of frustrated.\n",
      "If something's not going right, right away.\n",
      "I ended up getting through it, but I can get kind of flustered.\n"
     ]
    }
   ],
   "source": [
    "preprocess_text(\"normal.txt\")"
   ]
  },
  {
   "cell_type": "code",
   "execution_count": 5,
   "id": "6005d699",
   "metadata": {},
   "outputs": [
    {
     "name": "stdout",
     "output_type": "stream",
     "text": [
      " So in situations where somebody has been annoying me, I really try to make an effort to be aware of what's going on and try to figure out why I'm feeling annoyed.\n",
      "Is it something where it's that someone's done something that is provoking, like touching on my insecurity?\n",
      "A lot of times that's it, whether it's something whether undermining my decision or my knowledge, or if I feel, usually if I feel some type of insecurity in some way or it's making, you know, giving me a feeling of inadequacy or being an imposter like that, those are my strongest reactions.\n",
      "So I try to really be aware of that and not be as reactive to it when I feel annoyed.\n",
      "And in other situations where I can feel like, or identify that it is not something like that, and it is valid.\n",
      "Yeah.\n",
      "I still try to minimize my outward indicators that I am annoyed because I don't think that most of the time that's not really helpful.\n",
      "Because like I said in my previous question, I feel like it's important to be able to navigate our, you know, kind of inflammatory situations in terms of interpersonal communication.\n",
      "It's important to navigate that with grace.\n",
      "And I think that's really important.\n",
      "And I think that's really important.\n",
      "And I think that's really important.\n",
      "And I think that's really important.\n",
      "And I think that's really important.\n",
      "And I think that's really important.\n",
      "And I think that's really important.\n",
      "And I think that's really important.\n",
      "And I think that's really important.\n",
      "And I think that's really important.\n",
      "And I think that's really important.\n",
      "And I think that's really important.\n",
      "And I think that's really important.\n",
      "And I think that's really important.\n",
      "And I think that's really important.\n",
      "And I think that's really important.\n",
      "And I think that's really important.\n",
      "And I think that's really important.\n",
      "And I think that's really important.\n",
      "And I think that's really important.\n",
      "And I think that's really important.\n",
      "And I think that's really important.\n",
      "And I think that's really important.\n",
      "And I think that's really important.\n",
      "And I think that's really important.\n",
      "And I think that's really important.\n",
      "And I think that's really important.\n",
      "And I think that's really important.\n",
      "And I think that's really important.\n",
      "And I think that's really important.\n",
      "And I think that's really important.\n",
      "And I think that's really important.\n",
      "And I think that's really important.\n",
      "And I think that's really important.\n",
      "And I think that's really important.\n",
      "And I think that's really important.\n",
      "And I think that's really important.\n",
      "And I think that's really important.\n",
      "And I think that's really important.\n",
      "And I think that's really important.\n",
      "And I think that's really important.\n",
      "And I think that's really important.\n",
      "And I think that's really important.\n",
      "And I think that's really important.\n"
     ]
    }
   ],
   "source": [
    "preprocess_text(\"cringe.txt\")"
   ]
  },
  {
   "cell_type": "code",
   "execution_count": 8,
   "id": "a0a78d7c",
   "metadata": {},
   "outputs": [
    {
     "name": "stdout",
     "output_type": "stream",
     "text": [
      "My best friend would describe me as being a very caring, very giving person.\n",
      "I tend to be more of a listener than coming to people with my problems.\n",
      "So I lend a big ear to people.\n",
      "I'm very easy to talk to.\n",
      "So when you're telling me your problems, I absorb everything.\n",
      "I'm not going to put you off.\n",
      "And I typically make time for anybody who needs it.\n",
      "I'm very good at prioritizing.\n",
      "So I will fit you in when I can, obviously, where adults are busy.\n",
      "Another thing they would describe me as is I'm typically very outgoing, a very loving person, and sometimes to a fault where I give too much of myself to people.\n",
      "I can be maybe too nice, too understanding, too giving, but that's just how I am.\n",
      "I would say my best friend would also describe me as very reliable, very dependable.\n",
      "If I say I'm going to do something, I do it.\n",
      "I follow through with it without having to be pestered, be asked.\n",
      "They have to keep following up with me.\n",
      "Are you sure you're going to do it?\n",
      "If I say I'm going to do something, I end up doing it.\n",
      "I follow through with it without needing to be asked plenty of times.\n",
      "You may have to follow up once with me.\n",
      "I may have lost track of it.\n",
      "I didn't forget to do it.\n",
      "I put it a little on the back burner.\n",
      "And I would say another thing that typically I wear my heart on my sleeve, so to speak.\n",
      "I can be kind of an emotional person, and I take a lot of stuff to heart.\n",
      "Stuff can get to me.\n",
      "I can get kind of frustrated.\n",
      "If something's not going right, right away.\n",
      "I ended up getting through it, but I can get kind of flustered.\n"
     ]
    }
   ],
   "source": [
    "preprocess_text(\"normal.txt\")"
   ]
  },
  {
   "cell_type": "code",
   "execution_count": 9,
   "id": "7ff6653f",
   "metadata": {},
   "outputs": [
    {
     "name": "stdout",
     "output_type": "stream",
     "text": [
      "So in situations where somebody has been annoying me, I really try to make an effort to be aware of what's going on and try to figure out why I'm feeling annoyed.\n",
      "Is it something where it's that someone's done something that is provoking, like touching on my insecurity?\n",
      "A lot of times that's it, whether it's something whether undermining my decision or my knowledge, or if I feel, usually if I feel some type of insecurity in some way or it's making, you know, giving me a feeling of inadequacy or being an imposter like that, those are my strongest reactions.\n",
      "So I try to really be aware of that and not be as reactive to it when I feel annoyed.\n",
      "And in other situations where I can feel like, or identify that it is not something like that, and it is valid.\n",
      "Yeah.\n",
      "I still try to minimize my outward indicators that I am annoyed because I don't think that most of the time that's not really helpful.\n",
      "Because like I said in my previous question, I feel like it's important to be able to navigate our, you know, kind of inflammatory situations in terms of interpersonal communication.\n",
      "It's important to navigate that with grace.\n",
      "And I think that's really important.\n"
     ]
    }
   ],
   "source": [
    "preprocess_text(\"cringe.txt\")"
   ]
  },
  {
   "cell_type": "code",
   "execution_count": 10,
   "id": "df87f7c9",
   "metadata": {},
   "outputs": [
    {
     "name": "stdout",
     "output_type": "stream",
     "text": [
      "Hello!\n",
      "I'm not a lorem ipsum?\n",
      "Whaaaaaat's\n"
     ]
    }
   ],
   "source": [
    "preprocess_text(\"text.txt\")"
   ]
  },
  {
   "cell_type": "markdown",
   "id": "d525c2f2",
   "metadata": {},
   "source": [
    "---\n"
   ]
  },
  {
   "cell_type": "code",
   "execution_count": 50,
   "id": "e8c24918",
   "metadata": {},
   "outputs": [],
   "source": [
    "with open(\"normal.txt\", \"r\") as f:\n",
    "    text = f.read()\n",
    "\n",
    "# Define a regular expression for advanced sentence splitting\n",
    "sentence_splitter = re.compile(r\"(?<=[.!?])\\s+\")\n",
    "\n",
    "# Split text into sentences using the advanced sentence splitter\n",
    "sentences = sentence_splitter.split(text)\n",
    "\n",
    "# for sentence in sentences:\n",
    "#     print(sentence)\n",
    "\n",
    "# Remove any empty sentences and consecutive duplicates\n",
    "prev_sentence = None\n",
    "filtered_sentences = []\n",
    "for sentence in sentences:\n",
    "    sentence = sentence.strip()\n",
    "    if sentence and sentence != prev_sentence:\n",
    "        filtered_sentences.append(sentence)\n",
    "        prev_sentence = sentence"
   ]
  },
  {
   "cell_type": "code",
   "execution_count": 51,
   "id": "c63c9a0d",
   "metadata": {},
   "outputs": [
    {
     "data": {
      "text/plain": [
       "['My best friend would describe me as being a very caring, very giving person.',\n",
       " 'I tend to be more of a listener than coming to people with my problems.',\n",
       " 'So I lend a big ear to people.',\n",
       " \"I'm very easy to talk to.\",\n",
       " \"So when you're telling me your problems, I absorb everything.\",\n",
       " \"I'm not going to put you off.\",\n",
       " 'And I typically make time for anybody who needs it.',\n",
       " \"I'm very good at prioritizing.\",\n",
       " 'So I will fit you in when I can, obviously, where adults are busy.',\n",
       " \"Another thing they would describe me as is I'm typically very outgoing, a very loving person, and sometimes to a fault where I give too much of myself to people.\",\n",
       " \"I can be maybe too nice, too understanding, too giving, but that's just how I am.\",\n",
       " 'I would say my best friend would also describe me as very reliable, very dependable.',\n",
       " \"If I say I'm going to do something, I do it.\",\n",
       " 'I follow through with it without having to be pestered, be asked.',\n",
       " 'They have to keep following up with me.',\n",
       " \"Are you sure you're going to do it?\",\n",
       " \"If I say I'm going to do something, I end up doing it.\",\n",
       " 'I follow through with it without needing to be asked plenty of times.',\n",
       " 'You may have to follow up once with me.',\n",
       " 'I may have lost track of it.',\n",
       " \"I didn't forget to do it.\",\n",
       " 'I put it a little on the back burner.',\n",
       " 'And I would say another thing that typically I wear my heart on my sleeve, so to speak.',\n",
       " 'I can be kind of an emotional person, and I take a lot of stuff to heart.',\n",
       " 'Stuff can get to me.',\n",
       " 'I can get kind of frustrated.',\n",
       " \"If something's not going right, right away.\",\n",
       " 'I ended up getting through it, but I can get kind of flustered.']"
      ]
     },
     "execution_count": 51,
     "metadata": {},
     "output_type": "execute_result"
    }
   ],
   "source": [
    "filtered_sentences"
   ]
  },
  {
   "cell_type": "code",
   "execution_count": null,
   "id": "0c320cf1",
   "metadata": {},
   "outputs": [],
   "source": [
    "from transformers import AutoModel, AutoTokenizer\n",
    "\n",
    "model_id = \"j-hartmann/emotion-english-distilroberta-base\"\n",
    "model = AutoModel.from_pretrained(\n",
    "    model_id, use_safetensors=True, add_pooling_layer=False\n",
    ")\n",
    "tokenizer = AutoTokenizer.from_pretrained(model_id)"
   ]
  },
  {
   "cell_type": "code",
   "execution_count": 66,
   "id": "934e03c9",
   "metadata": {},
   "outputs": [
    {
     "data": {
      "text/plain": [
       "RobertaModel(\n",
       "  (embeddings): RobertaEmbeddings(\n",
       "    (word_embeddings): Embedding(50265, 768, padding_idx=1)\n",
       "    (position_embeddings): Embedding(514, 768, padding_idx=1)\n",
       "    (token_type_embeddings): Embedding(1, 768)\n",
       "    (LayerNorm): LayerNorm((768,), eps=1e-05, elementwise_affine=True)\n",
       "    (dropout): Dropout(p=0.1, inplace=False)\n",
       "  )\n",
       "  (encoder): RobertaEncoder(\n",
       "    (layer): ModuleList(\n",
       "      (0-5): 6 x RobertaLayer(\n",
       "        (attention): RobertaAttention(\n",
       "          (self): RobertaSdpaSelfAttention(\n",
       "            (query): Linear(in_features=768, out_features=768, bias=True)\n",
       "            (key): Linear(in_features=768, out_features=768, bias=True)\n",
       "            (value): Linear(in_features=768, out_features=768, bias=True)\n",
       "            (dropout): Dropout(p=0.1, inplace=False)\n",
       "          )\n",
       "          (output): RobertaSelfOutput(\n",
       "            (dense): Linear(in_features=768, out_features=768, bias=True)\n",
       "            (LayerNorm): LayerNorm((768,), eps=1e-05, elementwise_affine=True)\n",
       "            (dropout): Dropout(p=0.1, inplace=False)\n",
       "          )\n",
       "        )\n",
       "        (intermediate): RobertaIntermediate(\n",
       "          (dense): Linear(in_features=768, out_features=3072, bias=True)\n",
       "          (intermediate_act_fn): GELUActivation()\n",
       "        )\n",
       "        (output): RobertaOutput(\n",
       "          (dense): Linear(in_features=3072, out_features=768, bias=True)\n",
       "          (LayerNorm): LayerNorm((768,), eps=1e-05, elementwise_affine=True)\n",
       "          (dropout): Dropout(p=0.1, inplace=False)\n",
       "        )\n",
       "      )\n",
       "    )\n",
       "  )\n",
       ")"
      ]
     },
     "execution_count": 66,
     "metadata": {},
     "output_type": "execute_result"
    }
   ],
   "source": [
    "model"
   ]
  },
  {
   "cell_type": "code",
   "execution_count": null,
   "id": "462894ab",
   "metadata": {},
   "outputs": [
    {
     "data": {
      "text/plain": [
       "torch.Size([1, 375])"
      ]
     },
     "execution_count": 67,
     "metadata": {},
     "output_type": "execute_result"
    }
   ],
   "source": [
    "inputs = tokenizer(\n",
    "    \" \".join(filtered_sentences),\n",
    "    return_tensors=\"pt\",\n",
    "    max_length=512,\n",
    "    truncation=True,\n",
    "    padding=True,\n",
    ")\n",
    "inputs.input_ids.size()"
   ]
  },
  {
   "cell_type": "code",
   "execution_count": 73,
   "id": "14564ef3",
   "metadata": {},
   "outputs": [
    {
     "data": {
      "text/plain": [
       "\"<s>My best friend would describe me as being a very caring, very giving person. I tend to be more of a listener than coming to people with my problems. So I lend a big ear to people. I'm very easy to talk to. So when you're telling me your problems, I absorb everything. I'm not going to put you off. And I typically make time for anybody who needs it. I'm very good at prioritizing. So I will fit you in when I can, obviously, where adults are busy. Another thing they would describe me as is I'm typically very outgoing, a very loving person, and sometimes to a fault where I give too much of myself to people. I can be maybe too nice, too understanding, too giving, but that's just how I am. I would say my best friend would also describe me as very reliable, very dependable. If I say I'm going to do something, I do it. I follow through with it without having to be pestered, be asked. They have to keep following up with me. Are you sure you're going to do it? If I say I'm going to do something, I end up doing it. I follow through with it without needing to be asked plenty of times. You may have to follow up once with me. I may have lost track of it. I didn't forget to do it. I put it a little on the back burner. And I would say another thing that typically I wear my heart on my sleeve, so to speak. I can be kind of an emotional person, and I take a lot of stuff to heart. Stuff can get to me. I can get kind of frustrated. If something's not going right, right away. I ended up getting through it, but I can get kind of flustered.</s>\""
      ]
     },
     "execution_count": 73,
     "metadata": {},
     "output_type": "execute_result"
    }
   ],
   "source": [
    "tokenizer.decode(inputs.input_ids[0])"
   ]
  },
  {
   "cell_type": "code",
   "execution_count": 68,
   "id": "78f726a3",
   "metadata": {},
   "outputs": [],
   "source": [
    "import torch\n",
    "\n",
    "with torch.no_grad():\n",
    "    outputs = model(**inputs)"
   ]
  },
  {
   "cell_type": "code",
   "execution_count": 72,
   "id": "1c78a687",
   "metadata": {},
   "outputs": [
    {
     "data": {
      "text/plain": [
       "(torch.Size([1, 375, 768]), torch.Size([1, 768]))"
      ]
     },
     "execution_count": 72,
     "metadata": {},
     "output_type": "execute_result"
    }
   ],
   "source": [
    "outputs.last_hidden_state.size(), outputs.last_hidden_state[:, 0].size()"
   ]
  },
  {
   "cell_type": "markdown",
   "id": "b3c2b8ff",
   "metadata": {},
   "source": [
    "---\n"
   ]
  },
  {
   "cell_type": "code",
   "execution_count": 54,
   "id": "130e1cfe",
   "metadata": {},
   "outputs": [
    {
     "name": "stdout",
     "output_type": "stream",
     "text": [
      "tensor([[    0,  2387,   275,  1441,    74,  6190,   162,    25,   145,    10,\n",
      "           182, 10837,     6,   182,  1311,   621,     4,    38,  3805,     7,\n",
      "            28,    55,     9,    10, 30443,    87,   567,     7,    82,    19,\n",
      "           127,  1272,     4,   407,    38, 15658,    10,   380,  5567,     7,\n",
      "            82,     4,    38,   437,   182,  1365,     7,  1067,     7,     4,\n",
      "           407,    77,    47,   214,  2758,   162,   110,  1272,     6,    38,\n",
      "         15709,   960,     4,    38,   437,    45,   164,     7,   342,    47,\n",
      "           160,     4,   178,    38,  3700,   146,    86,    13,  5670,    54,\n",
      "           782,    24,     4,    38,   437,   182,   205,    23, 13993,  2787,\n",
      "             4,   407,    38,    40,  2564,    47,    11,    77,    38,    64,\n",
      "             6,  3334,     6,   147,  3362,    32,  3610,     4,  2044,   631,\n",
      "            51,    74,  6190,   162,    25,    16,    38,   437,  3700,   182,\n",
      "         14234,     6,    10,   182,  8520,   621,     6,     8,  2128,     7,\n",
      "            10,  7684,   147,    38,   492,   350,   203,     9,  2185,     7,\n",
      "            82,     4,    38,    64,    28,  2085,   350,  2579,     6,   350,\n",
      "          2969,     6,   350,  1311,     6,    53,    14,    18,    95,   141,\n",
      "            38,   524,     4,    38,    74,   224,   127,   275,  1441,    74,\n",
      "            67,  6190,   162,    25,   182,  7058,     6,   182,  6723,   868,\n",
      "             4,   318,    38,   224,    38,   437,   164,     7,   109,   402,\n",
      "             6,    38,   109,    24,     4,    38,  1407,   149,    19,    24,\n",
      "           396,   519,     7,    28, 19024,  3215,     6,    28,   553,     4,\n",
      "           252,    33,     7,   489,   511,    62,    19,   162,     4,  3945,\n",
      "            47,   686,    47,   214,   164,     7,   109,    24,   116,   318,\n",
      "            38,   224,    38,   437,   164,     7,   109,   402,     6,    38,\n",
      "           253,    62,   608,    24,     4,    38,  1407,   149,    19,    24,\n",
      "           396, 12075,     7,    28,   553,  2710,     9,   498,     4,   370,\n",
      "           189,    33,     7,  1407,    62,   683,    19,   162,     4,    38,\n",
      "           189,    33,   685,  1349,     9,    24,     4,    38,   399,    75,\n",
      "          4309,     7,   109,    24,     4,    38,   342,    24,    10,   410,\n",
      "            15,     5,   124, 35285,     4,   178,    38,    74,   224,   277,\n",
      "           631,    14,  3700,    38,  3568,   127,  1144,    15,   127, 24150,\n",
      "             6,    98,     7,  1994,     4,    38,    64,    28,   761,     9,\n",
      "            41,  3722,   621,     6,     8,    38,   185,    10,   319,     9,\n",
      "          2682,     7,  1144,     4, 25076,    64,   120,     7,   162,     4,\n",
      "            38,    64,   120,   761,     9,  8164,     4,   318,   402,    18,\n",
      "            45,   164,   235,     6,   235,   409,     4,    38,  1249,    62,\n",
      "           562,   149,    24,     6,    53,    38,    64,   120,   761,     9,\n",
      "          2342,  4193,  3215,     4,     2]])\n"
     ]
    }
   ],
   "source": [
    "max_len = 512\n",
    "\n",
    "text = \" \".join(filtered_sentences)\n",
    "inputs = tokenizer(text, return_tensors=\"pt\", padding=True, truncation=False)\n",
    "\n",
    "if inputs.input_ids.size(-1) >= max_len:\n",
    "    print(inputs.input_ids)\n",
    "    start_input = torch.clone(inputs.input_ids[:, :max_len])\n",
    "    end_input = torch.clone(inputs.input_ids[:, -max_len:])\n",
    "\n",
    "    # print(start_input.size())\n",
    "    with torch.no_grad():\n",
    "        start_output = model(start_input)\n",
    "        end_input = model(end_input)\n",
    "else:\n",
    "    print(inputs.input_ids)"
   ]
  },
  {
   "cell_type": "code",
   "execution_count": 48,
   "id": "a1f6f01d",
   "metadata": {},
   "outputs": [
    {
     "data": {
      "text/plain": [
       "torch.Size([1, 768])"
      ]
     },
     "execution_count": 48,
     "metadata": {},
     "output_type": "execute_result"
    }
   ],
   "source": [
    "start_output.pooler_output.size()"
   ]
  }
 ],
 "metadata": {
  "kernelspec": {
   "display_name": "airi-research",
   "language": "python",
   "name": "python3"
  },
  "language_info": {
   "codemirror_mode": {
    "name": "ipython",
    "version": 3
   },
   "file_extension": ".py",
   "mimetype": "text/x-python",
   "name": "python",
   "nbconvert_exporter": "python",
   "pygments_lexer": "ipython3",
   "version": "3.12.8"
  }
 },
 "nbformat": 4,
 "nbformat_minor": 5
}
