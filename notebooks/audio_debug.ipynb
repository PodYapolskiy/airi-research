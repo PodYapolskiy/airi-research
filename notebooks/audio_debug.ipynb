{
 "cells": [
  {
   "cell_type": "code",
   "execution_count": 2,
   "id": "06fcd4da",
   "metadata": {},
   "outputs": [
    {
     "data": {
      "text/plain": [
       "torch.Size([2, 8274042])"
      ]
     },
     "execution_count": 2,
     "metadata": {},
     "output_type": "execute_result"
    }
   ],
   "source": [
    "import torchaudio\n",
    "\n",
    "waveform, sr = torchaudio.load(\"../data/6282e2e2479eff12a562838c_q4_personality.wav\")\n",
    "waveform.size()"
   ]
  },
  {
   "cell_type": "code",
   "execution_count": 4,
   "id": "8b16ac15",
   "metadata": {},
   "outputs": [
    {
     "data": {
      "text/plain": [
       "torch.Size([2, 8256402])"
      ]
     },
     "execution_count": 4,
     "metadata": {},
     "output_type": "execute_result"
    }
   ],
   "source": [
    "torchaudio.functional.vad(waveform, sr).size()"
   ]
  },
  {
   "cell_type": "code",
   "execution_count": 7,
   "id": "4d3d12ec",
   "metadata": {},
   "outputs": [
    {
     "name": "stderr",
     "output_type": "stream",
     "text": [
      "/home/solan/repos/airi-research/.venv/lib/python3.8/site-packages/transformers/configuration_utils.py:306: UserWarning: Passing `gradient_checkpointing` to a config initialization is deprecated and will be removed in v5 Transformers. Using `model.gradient_checkpointing_enable()` instead, or if you are using the `Trainer` API, pass `gradient_checkpointing=True` in your `TrainingArguments`.\n",
      "  warnings.warn(\n",
      "Some weights of Wav2Vec2ForXVector were not initialized from the model checkpoint at facebook/wav2vec2-base and are newly initialized: ['classifier.bias', 'classifier.weight', 'feature_extractor.bias', 'feature_extractor.weight', 'objective.weight', 'projector.bias', 'projector.weight', 'tdnn.0.kernel.bias', 'tdnn.0.kernel.weight', 'tdnn.1.kernel.bias', 'tdnn.1.kernel.weight', 'tdnn.2.kernel.bias', 'tdnn.2.kernel.weight', 'tdnn.3.kernel.bias', 'tdnn.3.kernel.weight', 'tdnn.4.kernel.bias', 'tdnn.4.kernel.weight']\n",
      "You should probably TRAIN this model on a down-stream task to be able to use it for predictions and inference.\n"
     ]
    }
   ],
   "source": [
    "import torch\n",
    "from transformers import Wav2Vec2ForXVector, Wav2Vec2Processor\n",
    "\n",
    "model_id = \"facebook/wav2vec2-base\"\n",
    "device = torch.device(\"cuda\")\n",
    "model = Wav2Vec2ForXVector.from_pretrained(model_id, weights_only=True) # use_safetensors=True, \n",
    "model = model.half().to(device)\n",
    "model.eval()\n",
    "processor = Wav2Vec2Processor.from_pretrained(model_id)\n",
    "\n",
    "signal = processor(  # noqa: F722 # type: ignore\n",
    "    waveform, sampling_rate=16000, return_tensors=\"pt\"\n",
    ").input_values.squeeze(0)\n",
    "signal = signal.half().to(device)\n",
    "\n",
    "chunks = torch.split(signal, 120 * 16000, dim=1)  # 15-second chunks\n",
    "embeddings = []\n",
    "with torch.no_grad():\n",
    "    for chunk in chunks:\n",
    "        embeddings.append(model(chunk).embeddings)\n",
    "\n",
    "audio_features = torch.mean(torch.stack(embeddings), dim=0)"
   ]
  },
  {
   "cell_type": "code",
   "execution_count": 9,
   "id": "2a765c2e",
   "metadata": {},
   "outputs": [
    {
     "data": {
      "text/plain": [
       "torch.Size([2, 512])"
      ]
     },
     "execution_count": 9,
     "metadata": {},
     "output_type": "execute_result"
    }
   ],
   "source": [
    "audio_features.size()"
   ]
  }
 ],
 "metadata": {
  "kernelspec": {
   "display_name": ".venv",
   "language": "python",
   "name": "python3"
  },
  "language_info": {
   "codemirror_mode": {
    "name": "ipython",
    "version": 3
   },
   "file_extension": ".py",
   "mimetype": "text/x-python",
   "name": "python",
   "nbconvert_exporter": "python",
   "pygments_lexer": "ipython3",
   "version": "3.8.20"
  }
 },
 "nbformat": 4,
 "nbformat_minor": 5
}
