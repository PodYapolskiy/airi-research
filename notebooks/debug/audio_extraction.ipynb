{
 "cells": [
  {
   "cell_type": "code",
   "execution_count": 14,
   "id": "956a043e",
   "metadata": {},
   "outputs": [
    {
     "data": {
      "text/plain": [
       "0"
      ]
     },
     "execution_count": 14,
     "metadata": {},
     "output_type": "execute_result"
    }
   ],
   "source": [
    "import os\n",
    "import subprocess\n",
    "from pathlib import Path\n",
    "\n",
    "\n",
    "video_path = Path(\"../../data/train_data/58adfc6e7cf56d0001f931a2_q1_generic.mp4\")\n",
    "preprocessed_dir_path = Path(\"../../data/preprocessed_train_data\")\n",
    "# filename, ext = os.path.splitext(video_file)\n",
    "\n",
    "out_path = preprocessed_dir_path / \"video\" / f\"{video_path.stem}.wav\"\n",
    "\n",
    "\n",
    "subprocess.call([\"ffmpeg\", \"-y\", \"-i\", str(video_path), str(out_path)], stdout=subprocess.DEVNULL, stderr=subprocess.STDOUT)  \n"
   ]
  }
 ],
 "metadata": {
  "kernelspec": {
   "display_name": ".venv",
   "language": "python",
   "name": "python3"
  },
  "language_info": {
   "codemirror_mode": {
    "name": "ipython",
    "version": 3
   },
   "file_extension": ".py",
   "mimetype": "text/x-python",
   "name": "python",
   "nbconvert_exporter": "python",
   "pygments_lexer": "ipython3",
   "version": "3.8.20"
  }
 },
 "nbformat": 4,
 "nbformat_minor": 5
}
